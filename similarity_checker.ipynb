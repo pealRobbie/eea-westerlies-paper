{
 "cells": [
  {
   "cell_type": "markdown",
   "metadata": {},
   "source": [
    "# Similarity_checker\n",
    "\n",
    "#### Robert Peal January 2025\n",
    "\n",
    "- Check if some files that should be the same are the same"
   ]
  },
  {
   "cell_type": "code",
   "execution_count": 1,
   "metadata": {},
   "outputs": [],
   "source": [
    "import numpy as np\n",
    "import xarray as xr"
   ]
  },
  {
   "cell_type": "code",
   "execution_count": 25,
   "metadata": {},
   "outputs": [],
   "source": [
    "path1 = \"/home/atuin/c104fa/c104fa10/data/westerlies/eventDataTCv3/netcdfs/events_\"\n",
    "path2 = \"/home/atuin/c104fa/c104fa10/data/westerlies/sensitivity/mf700/dir.45_thresh.70_size.1000/data/event.\"\n",
    "\n",
    "years = np.arange(1981,2023)\n",
    "months = np.arange(1,2)\n"
   ]
  },
  {
   "cell_type": "code",
   "execution_count": 26,
   "metadata": {},
   "outputs": [
    {
     "name": "stdout",
     "output_type": "stream",
     "text": [
      "loading: 1981-01 ...\n",
      "loading: 1982-01 ...\n",
      "loading: 1983-01 ...\n",
      "loading: 1984-01 ...\n",
      "loading: 1985-01 ...\n",
      "loading: 1986-01 ...\n",
      "loading: 1987-01 ...\n",
      "loading: 1988-01 ...\n",
      "loading: 1989-01 ...\n",
      "loading: 1990-01 ...\n",
      "loading: 1991-01 ...\n",
      "loading: 1992-01 ...\n",
      "loading: 1993-01 ...\n",
      "loading: 1994-01 ...\n",
      "loading: 1995-01 ...\n",
      "loading: 1996-01 ...\n",
      "loading: 1997-01 ...\n",
      "loading: 1998-01 ...\n",
      "loading: 1999-01 ...\n",
      "loading: 2000-01 ...\n",
      "loading: 2001-01 ...\n",
      "loading: 2002-01 ...\n",
      "loading: 2003-01 ...\n",
      "loading: 2004-01 ...\n",
      "loading: 2005-01 ...\n",
      "loading: 2006-01 ...\n",
      "loading: 2007-01 ...\n",
      "loading: 2008-01 ...\n",
      "loading: 2009-01 ...\n",
      "loading: 2010-01 ...\n",
      "loading: 2011-01 ...\n",
      "loading: 2012-01 ...\n",
      "loading: 2013-01 ...\n",
      "loading: 2014-01 ...\n",
      "loading: 2015-01 ...\n",
      "loading: 2016-01 ...\n",
      "loading: 2017-01 ...\n",
      "loading: 2018-01 ...\n",
      "loading: 2019-01 ...\n",
      "loading: 2020-01 ...\n",
      "loading: 2021-01 ...\n",
      "loading: 2022-01 ...\n"
     ]
    }
   ],
   "source": [
    "errs = []\n",
    "\n",
    "for year in years:\n",
    "    for month in months:\n",
    "\n",
    "        print(f\"loading: {year}-{month:02} ...\")\n",
    "        f1 = xr.open_dataset(f\"{path1}{year}{month:02}.nc\")\n",
    "        f2 = xr.open_dataset(f\"{path2}{year}{month:02}.nc\")\n",
    "\n",
    "        f1 = xr.where(f1>0,1,0)\n",
    "        f2 = xr.where(f2>0,1,0)\n",
    "\n",
    "        wdiffs = np.unique((f1-f2)['westerlyMask'])\n",
    "        tcwdiffs = np.unique((f1-f2)['tc_westerlyMask'])\n",
    "\n",
    "        if (len(wdiffs) > 1) or (len(tcwdiffs) > 1):\n",
    "            print(\"Error found!\")\n",
    "            errs.append(f\"{year}-{month:02}\")\n",
    "\n",
    "        # print(f\"Westerly mask diff: {np.unique((f1-f2)['westerlyMask'],return_counts=True)}\")\n",
    "        # print(f\"TC Westerly mask diff: {np.unique((f1-f2)['tc_westerlyMask'],return_counts=True)}\")\n",
    "\n",
    "        \n",
    "        "
   ]
  },
  {
   "cell_type": "code",
   "execution_count": 22,
   "metadata": {},
   "outputs": [
    {
     "data": {
      "text/plain": [
       "array([ True])"
      ]
     },
     "execution_count": 22,
     "metadata": {},
     "output_type": "execute_result"
    }
   ],
   "source": [
    "np.unique((f1-f2)['westerlyMask']) == np.array([0])"
   ]
  },
  {
   "cell_type": "code",
   "execution_count": 27,
   "metadata": {},
   "outputs": [
    {
     "data": {
      "text/plain": [
       "[]"
      ]
     },
     "execution_count": 27,
     "metadata": {},
     "output_type": "execute_result"
    }
   ],
   "source": [
    "errs"
   ]
  },
  {
   "cell_type": "code",
   "execution_count": 10,
   "metadata": {},
   "outputs": [],
   "source": [
    "f1 = xr.where(f1>0,1,0)\n",
    "f2 = xr.where(f2>0,1,0)"
   ]
  },
  {
   "cell_type": "code",
   "execution_count": 18,
   "metadata": {},
   "outputs": [
    {
     "data": {
      "text/plain": [
       "(array([0]), array([4760763]))"
      ]
     },
     "execution_count": 18,
     "metadata": {},
     "output_type": "execute_result"
    }
   ],
   "source": [
    "np.unique((f1-f2)[\"westerlyMask\"],return_counts=True)"
   ]
  },
  {
   "cell_type": "code",
   "execution_count": null,
   "metadata": {},
   "outputs": [],
   "source": []
  }
 ],
 "metadata": {
  "kernelspec": {
   "display_name": "atmos_sci",
   "language": "python",
   "name": "python3"
  },
  "language_info": {
   "codemirror_mode": {
    "name": "ipython",
    "version": 3
   },
   "file_extension": ".py",
   "mimetype": "text/x-python",
   "name": "python",
   "nbconvert_exporter": "python",
   "pygments_lexer": "ipython3",
   "version": "3.9.18"
  }
 },
 "nbformat": 4,
 "nbformat_minor": 2
}
